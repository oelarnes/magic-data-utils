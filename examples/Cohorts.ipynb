{
 "cells": [
  {
   "cell_type": "markdown",
   "id": "401bd7ec-43e7-4e68-b429-e47d857f9f12",
   "metadata": {},
   "source": [
    ", so we don't get the effect of regression to the mean. We should be careful about drawing conclusions from their behavior since we are selecting for players that got luckier than average. One way to mitigate that is to use a Bayesian prior to bring win rates back to the mean a bit. Let's look"
   ]
  }
 ],
 "metadata": {
  "kernelspec": {
   "display_name": "Python 3 (ipykernel)",
   "language": "python",
   "name": "python3"
  },
  "language_info": {
   "codemirror_mode": {
    "name": "ipython",
    "version": 3
   },
   "file_extension": ".py",
   "mimetype": "text/x-python",
   "name": "python",
   "nbconvert_exporter": "python",
   "pygments_lexer": "ipython3",
   "version": "3.13.0"
  }
 },
 "nbformat": 4,
 "nbformat_minor": 5
}
