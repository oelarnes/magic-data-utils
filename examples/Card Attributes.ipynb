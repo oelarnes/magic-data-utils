{
 "cells": [
  {
   "cell_type": "code",
   "execution_count": 1,
   "id": "590f0230-10ec-4f94-80b9-849f729a6746",
   "metadata": {
    "jupyter": {
     "source_hidden": true
    }
   },
   "outputs": [],
   "source": [
    "import json\n",
    "\n",
    "import polars as pl\n",
    "\n",
    "from spells import summon, card_df\n",
    "from spells.enums import ColName, ColType\n",
    "from spells.columns import ColumnSpec"
   ]
  },
  {
   "cell_type": "markdown",
   "id": "0794b049-7146-4530-a050-6a90d7bb6460",
   "metadata": {},
   "source": [
    "## Fun with card attributes\n",
    "\n",
    "This is a sample notebook demonstrating how to define custom card attributes and define functions of card attributes at the row level. \n",
    "The normal paradigm is that card attributes are joined to the aggregated data set, which allows for tagging card-based aggregations by card attributes as well as linear aggregations by card attribute like averaging win rates.\n",
    "\n",
    "However, you might want to do something nonlinear, and the usual custom column definition won't let you depend on a `CARD_ATTR` column when defining a `NAME_SUM` or `PICK_SUM` column. So we will expose some of our seams to do something a little more custom.\n",
    "\n",
    "First, a little example of using the json dump to define an arbitrary extension of the raw data. Here we will be unoriginal and grab the mana value, which is already available under `MANA_VALUE`."
   ]
  },
  {
   "cell_type": "code",
   "execution_count": 2,
   "id": "7be151cc-fc89-4510-8bbd-02f098e7203e",
   "metadata": {},
   "outputs": [],
   "source": [
    "ext = [\n",
    "    ColumnSpec(\n",
    "        name=\"mana_value_2\",\n",
    "        col_type=ColType.CARD_ATTR,\n",
    "        expr=pl.col(ColName.CARD_JSON).map_elements(\n",
    "            lambda x: json.loads(x)[\"manaValue\"], return_dtype=pl.Float64\n",
    "        ),\n",
    "        dependencies=[ColName.CARD_JSON],\n",
    "        version=\"1\",  # used for cache signature because we have a non-serializable python function\n",
    "    ),\n",
    "]"
   ]
  },
  {
   "cell_type": "markdown",
   "id": "a3983acb-c6ba-4935-9298-3e1f5dff621d",
   "metadata": {},
   "source": [
    "I exposed a function `card_df` just for this example"
   ]
  },
  {
   "cell_type": "code",
   "execution_count": 3,
   "id": "02bdf6b8-dad7-4ea6-87b1-aa5a571ecdfa",
   "metadata": {},
   "outputs": [
    {
     "data": {
      "text/html": [
       "<div><style>\n",
       ".dataframe > thead > tr,\n",
       ".dataframe > tbody > tr {\n",
       "  text-align: right;\n",
       "  white-space: pre-wrap;\n",
       "}\n",
       "</style>\n",
       "<small>shape: (286, 3)</small><table border=\"1\" class=\"dataframe\"><thead><tr><th>name</th><th>mana_value</th><th>mana_value_2</th></tr><tr><td>str</td><td>f64</td><td>f64</td></tr></thead><tbody><tr><td>&quot;Abandoned&nbsp;Campground&quot;</td><td>0.0</td><td>0.0</td></tr><tr><td>&quot;Abhorrent&nbsp;Oculus&quot;</td><td>3.0</td><td>3.0</td></tr><tr><td>&quot;Acrobatic&nbsp;Cheerleader&quot;</td><td>2.0</td><td>2.0</td></tr><tr><td>&quot;Altanak,&nbsp;the&nbsp;Thrice-Called&quot;</td><td>7.0</td><td>7.0</td></tr><tr><td>&quot;Anthropede&quot;</td><td>4.0</td><td>4.0</td></tr><tr><td>&hellip;</td><td>&hellip;</td><td>&hellip;</td></tr><tr><td>&quot;Wildfire&nbsp;Wickerfolk&quot;</td><td>2.0</td><td>2.0</td></tr><tr><td>&quot;Winter&#x27;s&nbsp;Intervention&quot;</td><td>2.0</td><td>2.0</td></tr><tr><td>&quot;Winter,&nbsp;Misanthropic&nbsp;Guide&quot;</td><td>4.0</td><td>4.0</td></tr><tr><td>&quot;Withering&nbsp;Torment&quot;</td><td>3.0</td><td>3.0</td></tr><tr><td>&quot;Zimone,&nbsp;All-Questioning&quot;</td><td>3.0</td><td>3.0</td></tr></tbody></table></div>"
      ],
      "text/plain": [
       "shape: (286, 3)\n",
       "┌────────────────────────────┬────────────┬──────────────┐\n",
       "│ name                       ┆ mana_value ┆ mana_value_2 │\n",
       "│ ---                        ┆ ---        ┆ ---          │\n",
       "│ str                        ┆ f64        ┆ f64          │\n",
       "╞════════════════════════════╪════════════╪══════════════╡\n",
       "│ Abandoned Campground       ┆ 0.0        ┆ 0.0          │\n",
       "│ Abhorrent Oculus           ┆ 3.0        ┆ 3.0          │\n",
       "│ Acrobatic Cheerleader      ┆ 2.0        ┆ 2.0          │\n",
       "│ Altanak, the Thrice-Called ┆ 7.0        ┆ 7.0          │\n",
       "│ Anthropede                 ┆ 4.0        ┆ 4.0          │\n",
       "│ …                          ┆ …          ┆ …            │\n",
       "│ Wildfire Wickerfolk        ┆ 2.0        ┆ 2.0          │\n",
       "│ Winter's Intervention      ┆ 2.0        ┆ 2.0          │\n",
       "│ Winter, Misanthropic Guide ┆ 4.0        ┆ 4.0          │\n",
       "│ Withering Torment          ┆ 3.0        ┆ 3.0          │\n",
       "│ Zimone, All-Questioning    ┆ 3.0        ┆ 3.0          │\n",
       "└────────────────────────────┴────────────┴──────────────┘"
      ]
     },
     "execution_count": 3,
     "metadata": {},
     "output_type": "execute_result"
    }
   ],
   "source": [
    "df = card_df(\"DSK\", ext)\n",
    "df.select([ColName.NAME, ColName.MANA_VALUE, \"mana_value_2\"])"
   ]
  },
  {
   "cell_type": "code",
   "execution_count": 4,
   "id": "77fa3f5a-207e-4b79-8f9a-77b4af0dbc72",
   "metadata": {},
   "outputs": [],
   "source": [
    "dicts = df.select([ColName.NAME, ColName.MANA_VALUE]).to_dicts()\n",
    "mv_map = {d[ColName.NAME]: d[ColName.MANA_VALUE] for d in dicts}"
   ]
  },
  {
   "cell_type": "markdown",
   "id": "fd8dc39b-82f0-4166-9118-0fa030a0c674",
   "metadata": {},
   "source": [
    "Now, suppose we want to find out how often drafters take the card with lowest mana value. We will need the mana value of the seen cards in `PACK_CARD` as well as the picked card `PICK`. The name-mapped columns are easier because we explicitly define them as a function of name. As always, be careful about closures on global variables. The value will be bound to the expression when it is hydrated with the name values each time `summon` is called."
   ]
  },
  {
   "cell_type": "code",
   "execution_count": 5,
   "id": "45dd818c-8ae6-47d9-926d-f866a4a94a50",
   "metadata": {},
   "outputs": [],
   "source": [
    "ext.append(\n",
    "    ColumnSpec(\n",
    "        name=\"seen_mana_value\",\n",
    "        col_type=ColType.NAME_SUM,\n",
    "        exprMap=lambda name: pl.when(pl.col(f\"pack_card_{name}\") > 0)\n",
    "        .then(mv_map[name])\n",
    "        .otherwise(1000.0),  # we're going to take the min\n",
    "        dependencies=[ColName.PACK_CARD],\n",
    "    )\n",
    ")"
   ]
  },
  {
   "cell_type": "markdown",
   "id": "35ff39eb-3261-4894-8e1c-89c046da3359",
   "metadata": {},
   "source": [
    "The `PICK` value is trickier, since we would like to fully specify the formula. We could use `pl.Expr.map_elements` as above, but for large aggregations we're better off defining a proper Polars expression. Let's use the `NAME_SUM` paradigm as above to do that. (I did say we were going to expose some seams)"
   ]
  },
  {
   "cell_type": "code",
   "execution_count": 6,
   "id": "28d31e25-56ec-4433-bc79-01a68c389549",
   "metadata": {},
   "outputs": [],
   "source": [
    "ext.extend(\n",
    "    [\n",
    "        ColumnSpec(\n",
    "            name=\"is_picked\",\n",
    "            col_type=ColType.NAME_SUM,\n",
    "            exprMap=lambda name: pl.col(ColName.PICK) == name,\n",
    "            dependencies=[ColName.PICK],\n",
    "        ),\n",
    "        ColumnSpec(\n",
    "            name=\"picked_mana_value\",\n",
    "            col_type=ColType.NAME_SUM,\n",
    "            exprMap=lambda name: pl.when(pl.col(f\"is_picked_{name}\"))\n",
    "            .then(mv_map[name])\n",
    "            .otherwise(1000.0),\n",
    "            dependencies=[\"is_picked\"],\n",
    "        ),\n",
    "        ColumnSpec(\n",
    "            name=\"picked_least_mana_value\",\n",
    "            col_type=ColType.PICK_SUM,\n",
    "            expr=pl.min_horizontal(pl.col(\"^picked_mana_value_.*$\"))\n",
    "            <= pl.min_horizontal(\n",
    "                pl.col(\"^seen_mana_value_.*$\")\n",
    "            ),  # a dirty trick, careful with unintended matches\n",
    "            dependencies=[\"picked_mana_value\", \"seen_mana_value\"],\n",
    "        ),\n",
    "        ColumnSpec(\n",
    "            name=\"picked_least_mana_value_rate\",\n",
    "            col_type=ColType.AGG,\n",
    "            expr=pl.col(\"picked_least_mana_value\") / pl.col(\"num_taken\"),\n",
    "            dependencies=[\"picked_least_mana_value\", \"num_taken\"],\n",
    "        ),\n",
    "    ]\n",
    ")"
   ]
  },
  {
   "cell_type": "markdown",
   "id": "60c9d9ad-e95f-4c7b-be8e-1d14fe1ddd20",
   "metadata": {},
   "source": [
    "While we're at it, let's grab the average mana value of picked cards. This is a straightforward sum-based aggregation, so we can use the experimental `CARD_SUM` column type, along with the above `PICK_SUM` approach for comparison."
   ]
  },
  {
   "cell_type": "code",
   "execution_count": 7,
   "id": "18a5b35a-e59c-4019-ac5b-d7eb48a49550",
   "metadata": {
    "editable": true,
    "slideshow": {
     "slide_type": ""
    },
    "tags": []
   },
   "outputs": [],
   "source": [
    "ext.extend(\n",
    "    [\n",
    "        ColumnSpec(\n",
    "            name=\"picked_mv_card_sum\",\n",
    "            col_type=ColType.CARD_SUM,\n",
    "            expr=pl.col(\"mana_value\") * pl.col(\"num_taken\"),\n",
    "            dependencies=[\"mana_value\", \"num_taken\"],\n",
    "        ),\n",
    "        ColumnSpec(\n",
    "            name=\"avg_mv_picked_1\",\n",
    "            col_type=ColType.AGG,\n",
    "            expr=pl.col(\"picked_mv_card_sum\") / pl.col(\"num_taken\"),\n",
    "            dependencies=[\"picked_mv_card_sum\", \"num_taken\"],\n",
    "        ),\n",
    "        ColumnSpec(\n",
    "            name=\"picked_mana_value_sum\",\n",
    "            col_type=ColType.PICK_SUM,\n",
    "            expr=pl.min_horizontal(pl.col(\"^picked_mana_value_.*$\")),\n",
    "            dependencies=[\"picked_mana_value\"],\n",
    "        ),\n",
    "        ColumnSpec(\n",
    "            name=\"avg_mv_picked_2\",\n",
    "            col_type=ColType.AGG,\n",
    "            expr=pl.col(\"picked_mana_value_sum\") / pl.col(\"num_taken\"),\n",
    "            dependencies=[\"picked_mana_value_sum\", \"num_taken\"],\n",
    "        ),\n",
    "    ]\n",
    ")"
   ]
  },
  {
   "cell_type": "code",
   "execution_count": 9,
   "id": "251a9d12-f8d5-499f-8a69-dc4a26c7d31a",
   "metadata": {},
   "outputs": [
    {
     "data": {
      "text/html": [
       "<div><style>\n",
       ".dataframe > thead > tr,\n",
       ".dataframe > tbody > tr {\n",
       "  text-align: right;\n",
       "  white-space: pre-wrap;\n",
       "}\n",
       "</style>\n",
       "<small>shape: (4, 5)</small><table border=\"1\" class=\"dataframe\"><thead><tr><th>player_cohort</th><th>num_taken</th><th>avg_mv_picked_1</th><th>avg_mv_picked_2</th><th>picked_least_mana_value_rate</th></tr><tr><td>str</td><td>i32</td><td>f64</td><td>f64</td><td>f64</td></tr></thead><tbody><tr><td>&quot;Bottom&quot;</td><td>1079884</td><td>3.01064</td><td>3.01064</td><td>0.175012</td></tr><tr><td>&quot;Middle&quot;</td><td>2515295</td><td>2.98892</td><td>2.98892</td><td>0.17853</td></tr><tr><td>&quot;Other&quot;</td><td>2184415</td><td>3.007436</td><td>3.007436</td><td>0.174103</td></tr><tr><td>&quot;Top&quot;</td><td>1303151</td><td>2.969419</td><td>2.969419</td><td>0.182119</td></tr></tbody></table></div>"
      ],
      "text/plain": [
       "shape: (4, 5)\n",
       "┌───────────────┬───────────┬─────────────────┬─────────────────┬──────────────────────────────┐\n",
       "│ player_cohort ┆ num_taken ┆ avg_mv_picked_1 ┆ avg_mv_picked_2 ┆ picked_least_mana_value_rate │\n",
       "│ ---           ┆ ---       ┆ ---             ┆ ---             ┆ ---                          │\n",
       "│ str           ┆ i32       ┆ f64             ┆ f64             ┆ f64                          │\n",
       "╞═══════════════╪═══════════╪═════════════════╪═════════════════╪══════════════════════════════╡\n",
       "│ Bottom        ┆ 1079884   ┆ 3.01064         ┆ 3.01064         ┆ 0.175012                     │\n",
       "│ Middle        ┆ 2515295   ┆ 2.98892         ┆ 2.98892         ┆ 0.17853                      │\n",
       "│ Other         ┆ 2184415   ┆ 3.007436        ┆ 3.007436        ┆ 0.174103                     │\n",
       "│ Top           ┆ 1303151   ┆ 2.969419        ┆ 2.969419        ┆ 0.182119                     │\n",
       "└───────────────┴───────────┴─────────────────┴─────────────────┴──────────────────────────────┘"
      ]
     },
     "execution_count": 9,
     "metadata": {},
     "output_type": "execute_result"
    }
   ],
   "source": [
    "summon(\n",
    "    \"DSK\",\n",
    "    columns=[\n",
    "        \"num_taken\",\n",
    "        \"avg_mv_picked_1\",\n",
    "        \"avg_mv_picked_2\",\n",
    "        \"picked_least_mana_value_rate\",\n",
    "    ],\n",
    "    group_by=[\"player_cohort\"],\n",
    "    extensions=ext,\n",
    ")"
   ]
  },
  {
   "cell_type": "markdown",
   "id": "93fd225f-634d-4e2f-b302-f59092e9132a",
   "metadata": {},
   "source": [
    "As expected, the best players take cheap cards (slightly) more often!"
   ]
  }
 ],
 "metadata": {
  "kernelspec": {
   "display_name": "Python 3 (ipykernel)",
   "language": "python",
   "name": "python3"
  },
  "language_info": {
   "codemirror_mode": {
    "name": "ipython",
    "version": 3
   },
   "file_extension": ".py",
   "mimetype": "text/x-python",
   "name": "python",
   "nbconvert_exporter": "python",
   "pygments_lexer": "ipython3",
   "version": "3.13.0"
  }
 },
 "nbformat": 4,
 "nbformat_minor": 5
}
