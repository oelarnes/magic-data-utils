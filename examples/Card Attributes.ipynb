{
 "cells": [
  {
   "cell_type": "code",
   "execution_count": 25,
   "id": "590f0230-10ec-4f94-80b9-849f729a6746",
   "metadata": {},
   "outputs": [],
   "source": [
    "import json\n",
    "\n",
    "import polars as pl\n",
    "\n",
    "from spells import summon\n",
    "from spells.enums import ColName, ColType\n",
    "from spells.columns import ColumnSpec"
   ]
  },
  {
   "cell_type": "markdown",
   "id": "0794b049-7146-4530-a050-6a90d7bb6460",
   "metadata": {},
   "source": [
    "## Fun with card attributes\n",
    "\n",
    "This is a sample notebook demonstrating how to define custom card attributes and define functions of card attributes at the row level, which now has first-class support in Spells.\n",
    "\n",
    "First, a little example of using the json dump to define an arbitrary extension of the raw data. Here we will be unoriginal and grab the mana value, which is already available under `MANA_VALUE`."
   ]
  },
  {
   "cell_type": "code",
   "execution_count": 26,
   "id": "7be151cc-fc89-4510-8bbd-02f098e7203e",
   "metadata": {},
   "outputs": [],
   "source": [
    "ext = [\n",
    "    ColumnSpec(\n",
    "        name=\"mana_value_2\",\n",
    "        col_type=ColType.CARD_ATTR,\n",
    "        expr=pl.col(ColName.CARD_JSON).map_elements(\n",
    "            lambda x: json.loads(x)[\"manaValue\"], return_dtype=pl.Float64\n",
    "        ),\n",
    "        version=\"1\",  # used for cache signature because we have a non-serializable python function\n",
    "    ),\n",
    "]"
   ]
  },
  {
   "cell_type": "code",
   "execution_count": 27,
   "id": "02bdf6b8-dad7-4ea6-87b1-aa5a571ecdfa",
   "metadata": {},
   "outputs": [
    {
     "data": {
      "text/html": [
       "<div><style>\n",
       ".dataframe > thead > tr,\n",
       ".dataframe > tbody > tr {\n",
       "  text-align: right;\n",
       "  white-space: pre-wrap;\n",
       "}\n",
       "</style>\n",
       "<small>shape: (10, 4)</small><table border=\"1\" class=\"dataframe\"><thead><tr><th>name</th><th>mana_value</th><th>mana_value_2</th><th>deck</th></tr><tr><td>str</td><td>f64</td><td>f64</td><td>i64</td></tr></thead><tbody><tr><td>&quot;Abandoned&nbsp;Campground&quot;</td><td>0.0</td><td>0.0</td><td>114632</td></tr><tr><td>&quot;Abhorrent&nbsp;Oculus&quot;</td><td>3.0</td><td>3.0</td><td>26046</td></tr><tr><td>&quot;Acrobatic&nbsp;Cheerleader&quot;</td><td>2.0</td><td>2.0</td><td>188674</td></tr><tr><td>&quot;Altanak,&nbsp;the&nbsp;Thrice-Called&quot;</td><td>7.0</td><td>7.0</td><td>87285</td></tr><tr><td>&quot;Anthropede&quot;</td><td>4.0</td><td>4.0</td><td>50634</td></tr><tr><td>&quot;Appendage&nbsp;Amalgam&quot;</td><td>3.0</td><td>3.0</td><td>99733</td></tr><tr><td>&quot;Arabella,&nbsp;Abandoned&nbsp;Doll&quot;</td><td>2.0</td><td>2.0</td><td>109499</td></tr><tr><td>&quot;Attack-in-the-Box&quot;</td><td>3.0</td><td>3.0</td><td>21374</td></tr><tr><td>&quot;Balemurk&nbsp;Leech&quot;</td><td>2.0</td><td>2.0</td><td>86847</td></tr><tr><td>&quot;Balustrade&nbsp;Wurm&quot;</td><td>5.0</td><td>5.0</td><td>50788</td></tr></tbody></table></div>"
      ],
      "text/plain": [
       "shape: (10, 4)\n",
       "┌────────────────────────────┬────────────┬──────────────┬────────┐\n",
       "│ name                       ┆ mana_value ┆ mana_value_2 ┆ deck   │\n",
       "│ ---                        ┆ ---        ┆ ---          ┆ ---    │\n",
       "│ str                        ┆ f64        ┆ f64          ┆ i64    │\n",
       "╞════════════════════════════╪════════════╪══════════════╪════════╡\n",
       "│ Abandoned Campground       ┆ 0.0        ┆ 0.0          ┆ 114632 │\n",
       "│ Abhorrent Oculus           ┆ 3.0        ┆ 3.0          ┆ 26046  │\n",
       "│ Acrobatic Cheerleader      ┆ 2.0        ┆ 2.0          ┆ 188674 │\n",
       "│ Altanak, the Thrice-Called ┆ 7.0        ┆ 7.0          ┆ 87285  │\n",
       "│ Anthropede                 ┆ 4.0        ┆ 4.0          ┆ 50634  │\n",
       "│ Appendage Amalgam          ┆ 3.0        ┆ 3.0          ┆ 99733  │\n",
       "│ Arabella, Abandoned Doll   ┆ 2.0        ┆ 2.0          ┆ 109499 │\n",
       "│ Attack-in-the-Box          ┆ 3.0        ┆ 3.0          ┆ 21374  │\n",
       "│ Balemurk Leech             ┆ 2.0        ┆ 2.0          ┆ 86847  │\n",
       "│ Balustrade Wurm            ┆ 5.0        ┆ 5.0          ┆ 50788  │\n",
       "└────────────────────────────┴────────────┴──────────────┴────────┘"
      ]
     },
     "execution_count": 27,
     "metadata": {},
     "output_type": "execute_result"
    }
   ],
   "source": [
    "df = summon(\"DSK\", columns=[\"mana_value\", \"mana_value_2\", \"deck\"], extensions = ext)\n",
    "df.head(10)"
   ]
  },
  {
   "cell_type": "markdown",
   "id": "fd8dc39b-82f0-4166-9118-0fa030a0c674",
   "metadata": {},
   "source": [
    "Now, suppose we want to find out how often drafters take the card with lowest mana value. We will need the mana value of the seen cards in `PACK_CARD` as well as the picked card `PICK`. We use function expression definitions with the `name` argument to achieve this in both cases"
   ]
  },
  {
   "cell_type": "code",
   "execution_count": 28,
   "id": "28d31e25-56ec-4433-bc79-01a68c389549",
   "metadata": {},
   "outputs": [],
   "source": [
    "ext.extend(\n",
    "    [\n",
    "        ColumnSpec(\n",
    "            name=\"seen_mana_value\",\n",
    "            col_type=ColType.NAME_SUM,\n",
    "            expr=lambda name, card_context: pl.when(pl.col(f\"pack_card_{name}\") > 0)\n",
    "            .then(card_context[name]['mana_value'])\n",
    "            .otherwise(1000.0),  # we're going to take the min\n",
    "        ),\n",
    "        ColumnSpec(\n",
    "            name=\"picked_mana_value\",\n",
    "            col_type=ColType.PICK_SUM,\n",
    "            expr=lambda name, card_context: card_context[name]['mana_value']\n",
    "        ),\n",
    "        ColumnSpec(\n",
    "            name=\"picked_least_mana_value\",\n",
    "            col_type=ColType.PICK_SUM,\n",
    "            expr=lambda names: pl.col('picked_mana_value')\n",
    "            <= pl.min_horizontal(\n",
    "                [pl.col(f\"seen_mana_value_{name}\") for name in names]\n",
    "            ),\n",
    "        ),\n",
    "        ColumnSpec(\n",
    "            name=\"picked_least_mana_value_rate\",\n",
    "            col_type=ColType.AGG,\n",
    "            expr=pl.col(\"picked_least_mana_value\") / pl.col(\"num_taken\"),\n",
    "        ),\n",
    "    ]\n",
    ")"
   ]
  },
  {
   "cell_type": "markdown",
   "id": "60c9d9ad-e95f-4c7b-be8e-1d14fe1ddd20",
   "metadata": {},
   "source": [
    "While we're at it, let's grab the average mana value of picked cards. Simple as dividing two aggregated column values."
   ]
  },
  {
   "cell_type": "code",
   "execution_count": 29,
   "id": "18a5b35a-e59c-4019-ac5b-d7eb48a49550",
   "metadata": {
    "editable": true,
    "slideshow": {
     "slide_type": ""
    },
    "tags": []
   },
   "outputs": [],
   "source": [
    "ext.extend(\n",
    "    [\n",
    "        ColumnSpec(\n",
    "            name=\"avg_mv_picked\",\n",
    "            col_type=ColType.AGG,\n",
    "            expr=pl.col(\"picked_mana_value\") / pl.col(\"num_taken\"),\n",
    "        ),\n",
    "    ]\n",
    ")"
   ]
  },
  {
   "cell_type": "code",
   "execution_count": 30,
   "id": "251a9d12-f8d5-499f-8a69-dc4a26c7d31a",
   "metadata": {},
   "outputs": [
    {
     "data": {
      "text/html": [
       "<div><style>\n",
       ".dataframe > thead > tr,\n",
       ".dataframe > tbody > tr {\n",
       "  text-align: right;\n",
       "  white-space: pre-wrap;\n",
       "}\n",
       "</style>\n",
       "<small>shape: (4, 4)</small><table border=\"1\" class=\"dataframe\"><thead><tr><th>player_cohort</th><th>num_taken</th><th>avg_mv_picked</th><th>picked_least_mana_value_rate</th></tr><tr><td>str</td><td>i32</td><td>f64</td><td>f64</td></tr></thead><tbody><tr><td>&quot;Bottom&quot;</td><td>1079884</td><td>3.01064</td><td>0.175012</td></tr><tr><td>&quot;Middle&quot;</td><td>2515295</td><td>2.98892</td><td>0.17853</td></tr><tr><td>&quot;Other&quot;</td><td>2184415</td><td>3.007436</td><td>0.174103</td></tr><tr><td>&quot;Top&quot;</td><td>1303151</td><td>2.969419</td><td>0.182119</td></tr></tbody></table></div>"
      ],
      "text/plain": [
       "shape: (4, 4)\n",
       "┌───────────────┬───────────┬───────────────┬──────────────────────────────┐\n",
       "│ player_cohort ┆ num_taken ┆ avg_mv_picked ┆ picked_least_mana_value_rate │\n",
       "│ ---           ┆ ---       ┆ ---           ┆ ---                          │\n",
       "│ str           ┆ i32       ┆ f64           ┆ f64                          │\n",
       "╞═══════════════╪═══════════╪═══════════════╪══════════════════════════════╡\n",
       "│ Bottom        ┆ 1079884   ┆ 3.01064       ┆ 0.175012                     │\n",
       "│ Middle        ┆ 2515295   ┆ 2.98892       ┆ 0.17853                      │\n",
       "│ Other         ┆ 2184415   ┆ 3.007436      ┆ 0.174103                     │\n",
       "│ Top           ┆ 1303151   ┆ 2.969419      ┆ 0.182119                     │\n",
       "└───────────────┴───────────┴───────────────┴──────────────────────────────┘"
      ]
     },
     "execution_count": 30,
     "metadata": {},
     "output_type": "execute_result"
    }
   ],
   "source": [
    "summon(\n",
    "    \"DSK\",\n",
    "    columns=[\n",
    "        \"num_taken\",\n",
    "        \"avg_mv_picked\",\n",
    "        \"picked_least_mana_value_rate\",\n",
    "    ],\n",
    "    group_by=[\"player_cohort\"],\n",
    "    extensions=ext,\n",
    ")"
   ]
  },
  {
   "cell_type": "markdown",
   "id": "93fd225f-634d-4e2f-b302-f59092e9132a",
   "metadata": {},
   "source": [
    "As expected, the best players take cheap cards (slightly) more often!"
   ]
  }
 ],
 "metadata": {
  "kernelspec": {
   "display_name": "Python 3 (ipykernel)",
   "language": "python",
   "name": "python3"
  },
  "language_info": {
   "codemirror_mode": {
    "name": "ipython",
    "version": 3
   },
   "file_extension": ".py",
   "mimetype": "text/x-python",
   "name": "python",
   "nbconvert_exporter": "python",
   "pygments_lexer": "ipython3",
   "version": "3.13.0"
  }
 },
 "nbformat": 4,
 "nbformat_minor": 5
}
