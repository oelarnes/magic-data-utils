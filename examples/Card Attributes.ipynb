{
 "cells": [
  {
   "cell_type": "code",
   "execution_count": 1,
   "id": "590f0230-10ec-4f94-80b9-849f729a6746",
   "metadata": {},
   "outputs": [],
   "source": [
    "import json\n",
    "\n",
    "import polars as pl\n",
    "\n",
    "from spells import summon\n",
    "from spells.enums import ColName, ColType\n",
    "from spells.columns import ColSpec"
   ]
  },
  {
   "cell_type": "markdown",
   "id": "0794b049-7146-4530-a050-6a90d7bb6460",
   "metadata": {},
   "source": [
    "## Fun with card attributes\n",
    "\n",
    "This is a sample notebook demonstrating how to define custom card attributes and define functions of card attributes at the row level, which now has first-class support in Spells.\n",
    "\n",
    "Suppose we want to find out how often drafters take the card with lowest mana value. We will need the mana value of the seen cards in `PACK_CARD` as well as the picked card `PICK`. We use function expression definitions with the `name` argument to achieve this in both cases"
   ]
  },
  {
   "cell_type": "code",
   "execution_count": 4,
   "id": "28d31e25-56ec-4433-bc79-01a68c389549",
   "metadata": {},
   "outputs": [],
   "source": [
    "ext =[\n",
    "    ColSpec(\n",
    "        name=\"seen_mana_value\",\n",
    "        col_type=ColType.NAME_SUM,\n",
    "        expr=lambda name, card_context: pl.when(pl.col(f\"pack_card_{name}\") > 0)\n",
    "        .then(card_context[name]['mana_value'])\n",
    "        .otherwise(1000.0),  # we're going to take the min\n",
    "    ),\n",
    "    ColSpec(\n",
    "        name=\"picked_mana_value\",\n",
    "        col_type=ColType.PICK_SUM,\n",
    "        expr=lambda name, card_context: card_context[name]['mana_value']\n",
    "    ),\n",
    "    ColSpec(\n",
    "        name=\"picked_least_mana_value\",\n",
    "        col_type=ColType.PICK_SUM,\n",
    "        expr=lambda names: pl.col('picked_mana_value')\n",
    "        <= pl.min_horizontal(\n",
    "            [pl.col(f\"seen_mana_value_{name}\") for name in names]\n",
    "        ),\n",
    "    ),\n",
    "    ColSpec(\n",
    "        name=\"picked_least_mana_value_rate\",\n",
    "        col_type=ColType.AGG,\n",
    "        expr=pl.col(\"picked_least_mana_value\") / pl.col(\"num_taken\"),\n",
    "    ),\n",
    "    ColSpec(\n",
    "        name=\"avg_mv_picked\",\n",
    "        col_type=ColType.AGG,\n",
    "        expr=pl.col(\"picked_mana_value\") / pl.col(\"num_taken\"),\n",
    "    ),\n",
    "]\n"
   ]
  },
  {
   "cell_type": "code",
   "execution_count": 5,
   "id": "251a9d12-f8d5-499f-8a69-dc4a26c7d31a",
   "metadata": {},
   "outputs": [
    {
     "data": {
      "text/html": [
       "<div><style>\n",
       ".dataframe > thead > tr,\n",
       ".dataframe > tbody > tr {\n",
       "  text-align: right;\n",
       "  white-space: pre-wrap;\n",
       "}\n",
       "</style>\n",
       "<small>shape: (4, 4)</small><table border=\"1\" class=\"dataframe\"><thead><tr><th>player_cohort</th><th>num_taken</th><th>avg_mv_picked</th><th>picked_least_mana_value_rate</th></tr><tr><td>str</td><td>i32</td><td>f64</td><td>f64</td></tr></thead><tbody><tr><td>&quot;Bottom&quot;</td><td>1079884</td><td>3.01064</td><td>0.175012</td></tr><tr><td>&quot;Middle&quot;</td><td>2515295</td><td>2.98892</td><td>0.17853</td></tr><tr><td>&quot;Other&quot;</td><td>2184415</td><td>3.007436</td><td>0.174103</td></tr><tr><td>&quot;Top&quot;</td><td>1303151</td><td>2.969419</td><td>0.182119</td></tr></tbody></table></div>"
      ],
      "text/plain": [
       "shape: (4, 4)\n",
       "┌───────────────┬───────────┬───────────────┬──────────────────────────────┐\n",
       "│ player_cohort ┆ num_taken ┆ avg_mv_picked ┆ picked_least_mana_value_rate │\n",
       "│ ---           ┆ ---       ┆ ---           ┆ ---                          │\n",
       "│ str           ┆ i32       ┆ f64           ┆ f64                          │\n",
       "╞═══════════════╪═══════════╪═══════════════╪══════════════════════════════╡\n",
       "│ Bottom        ┆ 1079884   ┆ 3.01064       ┆ 0.175012                     │\n",
       "│ Middle        ┆ 2515295   ┆ 2.98892       ┆ 0.17853                      │\n",
       "│ Other         ┆ 2184415   ┆ 3.007436      ┆ 0.174103                     │\n",
       "│ Top           ┆ 1303151   ┆ 2.969419      ┆ 0.182119                     │\n",
       "└───────────────┴───────────┴───────────────┴──────────────────────────────┘"
      ]
     },
     "execution_count": 5,
     "metadata": {},
     "output_type": "execute_result"
    }
   ],
   "source": [
    "summon(\n",
    "    \"DSK\",\n",
    "    columns=[\n",
    "        \"num_taken\",\n",
    "        \"avg_mv_picked\",\n",
    "        \"picked_least_mana_value_rate\",\n",
    "    ],\n",
    "    group_by=[\"player_cohort\"],\n",
    "    extensions=ext,\n",
    ")"
   ]
  },
  {
   "cell_type": "markdown",
   "id": "93fd225f-634d-4e2f-b302-f59092e9132a",
   "metadata": {},
   "source": [
    "As expected, the best players take cheap cards (slightly) more often!"
   ]
  },
  {
   "cell_type": "markdown",
   "id": "1f427cd9-4ebf-4bbb-a491-e8bf4d1198cf",
   "metadata": {},
   "source": [
    "Next, we'll demonstrate how to feed calculated card metrics back in for use in custom columns, using the `card_context` parameter, which accepts a name-indexed dataframe. We'll calculate gp_wr, then use it to see the average gp_wr selected by cohort."
   ]
  },
  {
   "cell_type": "code",
   "execution_count": 22,
   "id": "714d3c1f-b91a-4d8f-994a-d7c897c55d25",
   "metadata": {},
   "outputs": [
    {
     "data": {
      "text/html": [
       "<div><style>\n",
       ".dataframe > thead > tr,\n",
       ".dataframe > tbody > tr {\n",
       "  text-align: right;\n",
       "  white-space: pre-wrap;\n",
       "}\n",
       "</style>\n",
       "<small>shape: (4, 2)</small><table border=\"1\" class=\"dataframe\"><thead><tr><th>player_cohort</th><th>picked_gpwr_mean</th></tr><tr><td>str</td><td>f64</td></tr></thead><tbody><tr><td>&quot;Bottom&quot;</td><td>0.536653</td></tr><tr><td>&quot;Middle&quot;</td><td>0.537659</td></tr><tr><td>&quot;Other&quot;</td><td>0.536676</td></tr><tr><td>&quot;Top&quot;</td><td>0.538845</td></tr></tbody></table></div>"
      ],
      "text/plain": [
       "shape: (4, 2)\n",
       "┌───────────────┬──────────────────┐\n",
       "│ player_cohort ┆ picked_gpwr_mean │\n",
       "│ ---           ┆ ---              │\n",
       "│ str           ┆ f64              │\n",
       "╞═══════════════╪══════════════════╡\n",
       "│ Bottom        ┆ 0.536653         │\n",
       "│ Middle        ┆ 0.537659         │\n",
       "│ Other         ┆ 0.536676         │\n",
       "│ Top           ┆ 0.538845         │\n",
       "└───────────────┴──────────────────┘"
      ]
     },
     "execution_count": 22,
     "metadata": {},
     "output_type": "execute_result"
    }
   ],
   "source": [
    "gp_wr = summon(\"FDN\", columns=[ColName.GP_WR])\n",
    "\n",
    "ext = [\n",
    "    ColSpec(\n",
    "        name = \"picked_gpwr\",\n",
    "        col_type = ColType.PICK_SUM,\n",
    "        expr = lambda name, card_context: card_context[name]['gp_wr']\n",
    "    ),\n",
    "    ColSpec(\n",
    "        name = \"picked_gpwr_mean\",\n",
    "        col_type = ColType.AGG,\n",
    "        expr = pl.col(\"picked_gpwr\") / pl.col(\"num_taken\")\n",
    "    )\n",
    "]\n",
    "\n",
    "summon(\"FDN\", columns=[\"picked_gpwr_mean\"], group_by=[\"player_cohort\"], extensions = ext, card_context=gp_wr)"
   ]
  },
  {
   "cell_type": "markdown",
   "id": "11b750c4-87a9-4b18-bcfc-c55508011335",
   "metadata": {},
   "source": [
    "Using both paradigms, we can see how often players in each group took the highest-ranked card by gp_wr for early picks. Here I do p1p1 but you can just tweak the filter or add groups to see the full distributions."
   ]
  },
  {
   "cell_type": "code",
   "execution_count": 23,
   "id": "e33b4eb7-c8c3-46a2-9e3b-c1b657845462",
   "metadata": {},
   "outputs": [
    {
     "data": {
      "text/html": [
       "<div><style>\n",
       ".dataframe > thead > tr,\n",
       ".dataframe > tbody > tr {\n",
       "  text-align: right;\n",
       "  white-space: pre-wrap;\n",
       "}\n",
       "</style>\n",
       "<small>shape: (1, 4)</small><table border=\"1\" class=\"dataframe\"><thead><tr><th>expansion</th><th>num_drafts</th><th>picked_highest_gpwr_rate</th><th>picked_match_wr</th></tr><tr><td>str</td><td>i32</td><td>f64</td><td>f64</td></tr></thead><tbody><tr><td>&quot;FDN&quot;</td><td>104426</td><td>0.296736</td><td>0.544881</td></tr></tbody></table></div>"
      ],
      "text/plain": [
       "shape: (1, 4)\n",
       "┌───────────┬────────────┬──────────────────────────┬─────────────────┐\n",
       "│ expansion ┆ num_drafts ┆ picked_highest_gpwr_rate ┆ picked_match_wr │\n",
       "│ ---       ┆ ---        ┆ ---                      ┆ ---             │\n",
       "│ str       ┆ i32        ┆ f64                      ┆ f64             │\n",
       "╞═══════════╪════════════╪══════════════════════════╪═════════════════╡\n",
       "│ FDN       ┆ 104426     ┆ 0.296736                 ┆ 0.544881        │\n",
       "└───────────┴────────────┴──────────────────────────┴─────────────────┘"
      ]
     },
     "execution_count": 23,
     "metadata": {},
     "output_type": "execute_result"
    }
   ],
   "source": [
    "ext.extend(\n",
    "    [\n",
    "        ColSpec(\n",
    "            name=\"seen_gpwr\",\n",
    "            expr=lambda name, card_context: pl.when(pl.col(f\"pack_card_{name}\") > 0).then(card_context[name]['gp_wr']).otherwise(0.0),\n",
    "            col_type=ColType.NAME_SUM\n",
    "        ),\n",
    "        ColSpec(\n",
    "            name=\"picked_highest_gpwr\",\n",
    "            expr=lambda names: pl.col('picked_gpwr')\n",
    "                >= pl.max_horizontal(\n",
    "                [pl.col(f\"seen_gpwr_{name}\") for name in names]),\n",
    "            col_type = ColType.PICK_SUM,\n",
    "        ),\n",
    "        ColSpec(\n",
    "            name=\"picked_highest_gpwr_rate\",\n",
    "            expr=pl.col(\"picked_highest_gpwr\") / pl.col(\"num_taken\"),\n",
    "            col_type = ColType.AGG,\n",
    "        ),\n",
    "    ]\n",
    ")\n",
    "\n",
    "summon(\n",
    "    \"FDN\",\n",
    "    columns=[\n",
    "        \"num_drafts\",\n",
    "        \"picked_highest_gpwr_rate\",\n",
    "        \"picked_match_wr\"\n",
    "    ],\n",
    "    group_by=[\"expansion\"],\n",
    "    extensions=ext,\n",
    "    filter_spec={\n",
    "        '$and': [\n",
    "            {'lhs': 'pick_num', 'op': '<=', 'rhs': 1},\n",
    "            {'pack_num': 1}\n",
    "        ]   \n",
    "    },\n",
    "    card_context=gp_wr\n",
    ")"
   ]
  },
  {
   "cell_type": "markdown",
   "id": "26a538b4-9ab3-4152-ab15-5619a40b2c5c",
   "metadata": {},
   "source": [
    "Curiously, the value is quite a bit higher for DSK. Interesting to break out by cohort as well."
   ]
  },
  {
   "cell_type": "code",
   "execution_count": 25,
   "id": "6f2fbdd7-a455-4be9-bd6c-d7cc0aa0eb47",
   "metadata": {},
   "outputs": [
    {
     "data": {
      "text/html": [
       "<div><style>\n",
       ".dataframe > thead > tr,\n",
       ".dataframe > tbody > tr {\n",
       "  text-align: right;\n",
       "  white-space: pre-wrap;\n",
       "}\n",
       "</style>\n",
       "<small>shape: (4, 4)</small><table border=\"1\" class=\"dataframe\"><thead><tr><th>player_cohort</th><th>num_drafts</th><th>picked_highest_gpwr_rate</th><th>picked_match_wr</th></tr><tr><td>str</td><td>i32</td><td>f64</td><td>f64</td></tr></thead><tbody><tr><td>&quot;Bottom&quot;</td><td>25883</td><td>0.368582</td><td>0.464428</td></tr><tr><td>&quot;Middle&quot;</td><td>60200</td><td>0.414784</td><td>0.542797</td></tr><tr><td>&quot;Other&quot;</td><td>52384</td><td>0.369674</td><td>0.539835</td></tr><tr><td>&quot;Top&quot;</td><td>31197</td><td>0.436837</td><td>0.614636</td></tr></tbody></table></div>"
      ],
      "text/plain": [
       "shape: (4, 4)\n",
       "┌───────────────┬────────────┬──────────────────────────┬─────────────────┐\n",
       "│ player_cohort ┆ num_drafts ┆ picked_highest_gpwr_rate ┆ picked_match_wr │\n",
       "│ ---           ┆ ---        ┆ ---                      ┆ ---             │\n",
       "│ str           ┆ i32        ┆ f64                      ┆ f64             │\n",
       "╞═══════════════╪════════════╪══════════════════════════╪═════════════════╡\n",
       "│ Bottom        ┆ 25883      ┆ 0.368582                 ┆ 0.464428        │\n",
       "│ Middle        ┆ 60200      ┆ 0.414784                 ┆ 0.542797        │\n",
       "│ Other         ┆ 52384      ┆ 0.369674                 ┆ 0.539835        │\n",
       "│ Top           ┆ 31197      ┆ 0.436837                 ┆ 0.614636        │\n",
       "└───────────────┴────────────┴──────────────────────────┴─────────────────┘"
      ]
     },
     "execution_count": 25,
     "metadata": {},
     "output_type": "execute_result"
    }
   ],
   "source": [
    "gp_wr = summon(\"DSK\", columns=[ColName.GP_WR])\n",
    "summon(\n",
    "    \"DSK\",\n",
    "    columns=[\n",
    "        \"num_drafts\",\n",
    "        \"picked_highest_gpwr_rate\",\n",
    "        \"picked_match_wr\"\n",
    "    ],\n",
    "    group_by=[\"player_cohort\"],\n",
    "    extensions=ext,\n",
    "    filter_spec={\n",
    "        '$and': [\n",
    "            {'lhs': 'pick_num', 'op': '<=', 'rhs': 1},\n",
    "            {'pack_num': 1}\n",
    "        ]   \n",
    "    },\n",
    "    card_context=gp_wr\n",
    ")"
   ]
  },
  {
   "cell_type": "markdown",
   "id": "56456f00-412c-413c-8cac-5ac8a65a450d",
   "metadata": {},
   "source": [
    "Finally, let's do the same thing with DEq, my custom card metric. We'll use the base version for simplicity (i.e. without the usual bias and metagame adjustments)."
   ]
  },
  {
   "cell_type": "code",
   "execution_count": 33,
   "id": "dbf22604-af8e-43c9-ba11-42589fe1fe05",
   "metadata": {},
   "outputs": [
    {
     "data": {
      "text/html": [
       "<div><style>\n",
       ".dataframe > thead > tr,\n",
       ".dataframe > tbody > tr {\n",
       "  text-align: right;\n",
       "  white-space: pre-wrap;\n",
       "}\n",
       "</style>\n",
       "<small>shape: (4, 2)</small><table border=\"1\" class=\"dataframe\"><thead><tr><th>player_cohort</th><th>picked_highest_deq_base_rate</th></tr><tr><td>str</td><td>f64</td></tr></thead><tbody><tr><td>&quot;Bottom&quot;</td><td>0.516439</td></tr><tr><td>&quot;Middle&quot;</td><td>0.565515</td></tr><tr><td>&quot;Other&quot;</td><td>0.522125</td></tr><tr><td>&quot;Top&quot;</td><td>0.587428</td></tr></tbody></table></div>"
      ],
      "text/plain": [
       "shape: (4, 2)\n",
       "┌───────────────┬──────────────────────────────┐\n",
       "│ player_cohort ┆ picked_highest_deq_base_rate │\n",
       "│ ---           ┆ ---                          │\n",
       "│ str           ┆ f64                          │\n",
       "╞═══════════════╪══════════════════════════════╡\n",
       "│ Bottom        ┆ 0.516439                     │\n",
       "│ Middle        ┆ 0.565515                     │\n",
       "│ Other         ┆ 0.522125                     │\n",
       "│ Top           ┆ 0.587428                     │\n",
       "└───────────────┴──────────────────────────────┘"
      ]
     },
     "execution_count": 33,
     "metadata": {},
     "output_type": "execute_result"
    }
   ],
   "source": [
    "ext = [\n",
    "    ColSpec(\n",
    "        name=\"deq_base\",\n",
    "        col_type=ColType.AGG,\n",
    "        expr=(pl.col('gp_wr_excess') + 0.03 * (1 - pl.col('ata')/14).pow(2)) * pl.col('pct_gp'),\n",
    "    ),\n",
    "]\n",
    "deq = summon('DSK', columns=['deq_base'], filter_spec={'player_cohort': 'Top'}, extensions=ext)\n",
    "ext.extend([\n",
    "    ColSpec(\n",
    "        name='picked_deq_base',\n",
    "        col_type=ColType.PICK_SUM,\n",
    "        expr=lambda name, card_context: card_context[name]['deq_base']\n",
    "    ),\n",
    "    ColSpec(\n",
    "        name=\"seen_deq_base\",\n",
    "        expr=lambda name, card_context: pl.when(pl.col(f\"pack_card_{name}\") > 0).then(card_context[name]['deq_base']).otherwise(0.0),\n",
    "        col_type=ColType.NAME_SUM\n",
    "    ),\n",
    "    ColSpec(\n",
    "        name=\"picked_highest_deq_base\",\n",
    "        expr=lambda names: pl.col('picked_deq_base')\n",
    "            >= pl.max_horizontal(\n",
    "            [pl.col(f\"seen_deq_base_{name}\") for name in names]),\n",
    "        col_type = ColType.PICK_SUM,\n",
    "    ),\n",
    "    ColSpec(\n",
    "        name=\"picked_highest_deq_base_rate\",\n",
    "        expr=pl.col(\"picked_highest_deq_base\") / pl.col(\"num_taken\"),\n",
    "        col_type = ColType.AGG,\n",
    "    ),\n",
    "])\n",
    "summon('DSK', columns=['picked_highest_deq_base_rate'], \n",
    "    group_by=['player_cohort'], \n",
    "    extensions=ext, \n",
    "    filter_spec={\n",
    "        '$and': [\n",
    "            {'lhs': 'pick_num', 'op': '<=', 'rhs': 1},\n",
    "            {'pack_num': 1}\n",
    "        ]   \n",
    "    },\n",
    "    card_context=deq\n",
    ")\n"
   ]
  },
  {
   "cell_type": "markdown",
   "id": "3cad026a-ce30-4d11-bafa-6d0d03c72c1e",
   "metadata": {},
   "source": [
    "This is quite promising for the hypothesis that DEq models card quality, although there is still much work to tease out the implication of the use of the top player ATA."
   ]
  },
  {
   "cell_type": "code",
   "execution_count": null,
   "id": "0697e96f-1a1f-44db-8226-dfddc0351f9f",
   "metadata": {},
   "outputs": [],
   "source": []
  }
 ],
 "metadata": {
  "kernelspec": {
   "display_name": "Python 3 (ipykernel)",
   "language": "python",
   "name": "python3"
  },
  "language_info": {
   "codemirror_mode": {
    "name": "ipython",
    "version": 3
   },
   "file_extension": ".py",
   "mimetype": "text/x-python",
   "name": "python",
   "nbconvert_exporter": "python",
   "pygments_lexer": "ipython3",
   "version": "3.13.0"
  }
 },
 "nbformat": 4,
 "nbformat_minor": 5
}
