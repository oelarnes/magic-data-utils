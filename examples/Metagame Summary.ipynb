{
 "cells": [
  {
   "cell_type": "code",
   "execution_count": 1,
   "id": "eb0be37f-77ba-4615-b568-4efb8b082fb7",
   "metadata": {
    "jupyter": {
     "source_hidden": true
    }
   },
   "outputs": [],
   "source": [
    "import json\n",
    "\n",
    "import polars as pl\n",
    "\n",
    "from spells import summon, card_df\n",
    "from spells.enums import ColName, ColType\n",
    "from spells.columns import ColumnSpec"
   ]
  },
  {
   "cell_type": "markdown",
   "id": "857a90b7-c717-45ce-951f-3202ecf6d916",
   "metadata": {},
   "source": [
    "### Metagame Summary\n",
    "\n",
    "In this notebook I'll demonstrate the metagame summaries I like to look at, along the lines of the \"Deck Color\" page on 17Lands.com. First, lets generate that table. I like to only look at the top player cohort to judge what is effective for a winning strategy. Here are recipes for the basic charts"
   ]
  },
  {
   "cell_type": "code",
   "execution_count": 2,
   "id": "3d36fd8a-4a8e-4f78-b8d8-0248539ec7ff",
   "metadata": {},
   "outputs": [
    {
     "name": "stdout",
     "output_type": "stream",
     "text": [
      "shape: (5, 4)\n",
      "┌────────────┬─────────┬───────────┬──────────┐\n",
      "│ num_colors ┆ num_won ┆ num_games ┆ game_wr  │\n",
      "│ ---        ┆ ---     ┆ ---       ┆ ---      │\n",
      "│ u32        ┆ u32     ┆ u32       ┆ f64      │\n",
      "╞════════════╪═════════╪═══════════╪══════════╡\n",
      "│ 1          ┆ 1803    ┆ 2873      ┆ 0.627567 │\n",
      "│ 2          ┆ 112978  ┆ 182958    ┆ 0.617508 │\n",
      "│ 3          ┆ 12108   ┆ 20721     ┆ 0.584335 │\n",
      "│ 4          ┆ 337     ┆ 600       ┆ 0.561667 │\n",
      "│ 5          ┆ 17      ┆ 37        ┆ 0.459459 │\n",
      "└────────────┴─────────┴───────────┴──────────┘\n",
      "shape: (10, 4)\n",
      "┌─────────────┬─────────┬───────────┬──────────┐\n",
      "│ main_colors ┆ num_won ┆ num_games ┆ game_wr  │\n",
      "│ ---         ┆ ---     ┆ ---       ┆ ---      │\n",
      "│ str         ┆ u32     ┆ u32       ┆ f64      │\n",
      "╞═════════════╪═════════╪═══════════╪══════════╡\n",
      "│ BG          ┆ 9587    ┆ 15624     ┆ 0.613607 │\n",
      "│ BR          ┆ 11486   ┆ 18595     ┆ 0.617693 │\n",
      "│ RG          ┆ 16179   ┆ 26464     ┆ 0.611359 │\n",
      "│ UB          ┆ 4104    ┆ 6945      ┆ 0.590929 │\n",
      "│ UG          ┆ 16478   ┆ 26363     ┆ 0.625043 │\n",
      "│ UR          ┆ 6821    ┆ 11537     ┆ 0.591228 │\n",
      "│ WB          ┆ 5632    ┆ 9460      ┆ 0.595349 │\n",
      "│ WG          ┆ 4287    ┆ 7219      ┆ 0.59385  │\n",
      "│ WR          ┆ 18239   ┆ 28903     ┆ 0.631042 │\n",
      "│ WU          ┆ 20165   ┆ 31848     ┆ 0.633164 │\n",
      "└─────────────┴─────────┴───────────┴──────────┘\n"
     ]
    }
   ],
   "source": [
    "\n",
    "filter_spec = {ColName.PLAYER_COHORT: 'Top'}\n",
    "columns = [ColName.NUM_WON, ColName.NUM_GAMES, ColName.GAME_WR]\n",
    "\n",
    "print(summon(\"DSK\", columns=columns, group_by=[ColName.NUM_COLORS], filter_spec=filter_spec))\n",
    "\n",
    "two_color_filter = {'$and': [{'num_colors': 2}, filter_spec]}\n",
    "print(summon(\"DSK\", columns=columns, group_by=[ColName.MAIN_COLORS], filter_spec=two_color_filter))"
   ]
  },
  {
   "cell_type": "markdown",
   "id": "c74fc67c-a2ce-4200-9395-45c4a4acea8f",
   "metadata": {},
   "source": [
    "You'll note the winrates are higher than the \"Top\" cohort on 17Lands. That's because we are compelled to use an in-sample cohort. We might want some additional context about the archetypes, like how often the decks splash, the average number of lands, and the average converted mana cost. Let's add all three. There isn't a `GAME_SUM` column built in for splash count, so we'll define one. Note that `GAME_SUM` columns can only be used when no card attributes are used. So we'll need a separate aggregation."
   ]
  },
  {
   "cell_type": "code",
   "execution_count": 3,
   "id": "c6b81a2e-2c9c-42c7-ad17-6ecdf331336f",
   "metadata": {},
   "outputs": [
    {
     "name": "stdout",
     "output_type": "stream",
     "text": [
      "shape: (5, 5)\n",
      "┌────────────┬─────────┬───────────┬──────────┬─────────────┐\n",
      "│ num_colors ┆ num_won ┆ num_games ┆ game_wr  ┆ splash_rate │\n",
      "│ ---        ┆ ---     ┆ ---       ┆ ---      ┆ ---         │\n",
      "│ u32        ┆ u32     ┆ u32       ┆ f64      ┆ f64         │\n",
      "╞════════════╪═════════╪═══════════╪══════════╪═════════════╡\n",
      "│ 1          ┆ 1803    ┆ 2873      ┆ 0.627567 ┆ 0.788723    │\n",
      "│ 2          ┆ 112978  ┆ 182958    ┆ 0.617508 ┆ 0.306595    │\n",
      "│ 3          ┆ 12108   ┆ 20721     ┆ 0.584335 ┆ 0.15757     │\n",
      "│ 4          ┆ 337     ┆ 600       ┆ 0.561667 ┆ 0.526667    │\n",
      "│ 5          ┆ 17      ┆ 37        ┆ 0.459459 ┆ 0.0         │\n",
      "└────────────┴─────────┴───────────┴──────────┴─────────────┘\n",
      "shape: (10, 5)\n",
      "┌─────────────┬─────────┬───────────┬──────────┬─────────────┐\n",
      "│ main_colors ┆ num_won ┆ num_games ┆ game_wr  ┆ splash_rate │\n",
      "│ ---         ┆ ---     ┆ ---       ┆ ---      ┆ ---         │\n",
      "│ str         ┆ u32     ┆ u32       ┆ f64      ┆ f64         │\n",
      "╞═════════════╪═════════╪═══════════╪══════════╪═════════════╡\n",
      "│ BG          ┆ 9587    ┆ 15624     ┆ 0.613607 ┆ 0.509665    │\n",
      "│ BR          ┆ 11486   ┆ 18595     ┆ 0.617693 ┆ 0.214843    │\n",
      "│ RG          ┆ 16179   ┆ 26464     ┆ 0.611359 ┆ 0.391362    │\n",
      "│ UB          ┆ 4104    ┆ 6945      ┆ 0.590929 ┆ 0.379554    │\n",
      "│ UG          ┆ 16478   ┆ 26363     ┆ 0.625043 ┆ 0.504609    │\n",
      "│ UR          ┆ 6821    ┆ 11537     ┆ 0.591228 ┆ 0.275202    │\n",
      "│ WB          ┆ 5632    ┆ 9460      ┆ 0.595349 ┆ 0.275581    │\n",
      "│ WG          ┆ 4287    ┆ 7219      ┆ 0.59385  ┆ 0.342568    │\n",
      "│ WR          ┆ 18239   ┆ 28903     ┆ 0.631042 ┆ 0.079438    │\n",
      "│ WU          ┆ 20165   ┆ 31848     ┆ 0.633164 ┆ 0.228868    │\n",
      "└─────────────┴─────────┴───────────┴──────────┴─────────────┘\n"
     ]
    }
   ],
   "source": [
    "ext = [\n",
    "    ColumnSpec(\n",
    "        name='num_splash',\n",
    "        col_type=ColType.GAME_SUM,\n",
    "        expr=pl.col(ColName.HAS_SPLASH),\n",
    "        dependencies=[ColName.HAS_SPLASH]\n",
    "    ),\n",
    "    ColumnSpec(\n",
    "        name='splash_rate',\n",
    "        col_type=ColType.AGG,\n",
    "        expr=pl.col('num_splash') / pl.col(ColName.NUM_GAMES),\n",
    "        dependencies=['num_splash', ColName.NUM_GAMES],\n",
    "    ),\n",
    "]\n",
    "print(by_num_colors_df := summon(\"DSK\", columns=columns + ['splash_rate'], group_by=[ColName.NUM_COLORS], filter_spec=filter_spec, extensions=ext))\n",
    "print(by_color_pair_df := summon(\"DSK\", columns=columns+['splash_rate'], group_by=[\"main_colors\"], filter_spec=two_color_filter, extensions=ext))\n",
    "        "
   ]
  },
  {
   "cell_type": "markdown",
   "id": "813616e5-7dba-49d9-b005-ea5b39dff3a7",
   "metadata": {},
   "source": [
    "And the mana cost and land count columns are built in, but we have to leave out the `GAME_SUM` columns. We can join the polars dfs if we like."
   ]
  },
  {
   "cell_type": "code",
   "execution_count": 4,
   "id": "3bed9617-988b-40c9-9b43-1fa57d46c39c",
   "metadata": {},
   "outputs": [
    {
     "ename": "AssertionError",
     "evalue": "Invalid manifest for GAME_SUM column num_games",
     "output_type": "error",
     "traceback": [
      "\u001b[0;31m---------------------------------------------------------------------------\u001b[0m",
      "\u001b[0;31mAssertionError\u001b[0m                            Traceback (most recent call last)",
      "Cell \u001b[0;32mIn[4], line 1\u001b[0m\n\u001b[0;32m----> 1\u001b[0m card_sum_df_numc \u001b[38;5;241m=\u001b[39m \u001b[43msummon\u001b[49m\u001b[43m(\u001b[49m\u001b[38;5;124;43m\"\u001b[39;49m\u001b[38;5;124;43mDSK\u001b[39;49m\u001b[38;5;124;43m\"\u001b[39;49m\u001b[43m,\u001b[49m\u001b[43m \u001b[49m\u001b[43mcolumns\u001b[49m\u001b[38;5;241;43m=\u001b[39;49m\u001b[43m[\u001b[49m\u001b[43mColName\u001b[49m\u001b[38;5;241;43m.\u001b[39;49m\u001b[43mDECK_LANDS_AVG\u001b[49m\u001b[43m,\u001b[49m\u001b[43m \u001b[49m\u001b[43mColName\u001b[49m\u001b[38;5;241;43m.\u001b[39;49m\u001b[43mDECK_MANA_VALUE_AVG\u001b[49m\u001b[43m]\u001b[49m\u001b[43m,\u001b[49m\u001b[43m \u001b[49m\u001b[43mgroup_by\u001b[49m\u001b[38;5;241;43m=\u001b[39;49m\u001b[43m[\u001b[49m\u001b[43mColName\u001b[49m\u001b[38;5;241;43m.\u001b[39;49m\u001b[43mNUM_COLORS\u001b[49m\u001b[43m]\u001b[49m\u001b[43m,\u001b[49m\u001b[43m \u001b[49m\u001b[43mfilter_spec\u001b[49m\u001b[38;5;241;43m=\u001b[39;49m\u001b[43mfilter_spec\u001b[49m\u001b[43m)\u001b[49m\n",
      "File \u001b[0;32m~/Projects/spells/spells/draft_data.py:315\u001b[0m, in \u001b[0;36msummon\u001b[0;34m(set_code, columns, group_by, filter_spec, extensions, use_streaming, read_cache, write_cache)\u001b[0m\n\u001b[1;32m    312\u001b[0m         col_spec_map[spec\u001b[38;5;241m.\u001b[39mname] \u001b[38;5;241m=\u001b[39m spec\n\u001b[1;32m    314\u001b[0m col_def_map \u001b[38;5;241m=\u001b[39m _hydrate_col_defs(set_code, col_spec_map)\n\u001b[0;32m--> 315\u001b[0m m \u001b[38;5;241m=\u001b[39m \u001b[43mspells\u001b[49m\u001b[38;5;241;43m.\u001b[39;49m\u001b[43mmanifest\u001b[49m\u001b[38;5;241;43m.\u001b[39;49m\u001b[43mcreate\u001b[49m\u001b[43m(\u001b[49m\u001b[43mcol_def_map\u001b[49m\u001b[43m,\u001b[49m\u001b[43m \u001b[49m\u001b[43mcolumns\u001b[49m\u001b[43m,\u001b[49m\u001b[43m \u001b[49m\u001b[43mgroup_by\u001b[49m\u001b[43m,\u001b[49m\u001b[43m \u001b[49m\u001b[43mfilter_spec\u001b[49m\u001b[43m)\u001b[49m\n\u001b[1;32m    317\u001b[0m calc_fn \u001b[38;5;241m=\u001b[39m functools\u001b[38;5;241m.\u001b[39mpartial(_base_agg_df, set_code, m, use_streaming\u001b[38;5;241m=\u001b[39muse_streaming)\n\u001b[1;32m    318\u001b[0m agg_df \u001b[38;5;241m=\u001b[39m _fetch_or_cache(\n\u001b[1;32m    319\u001b[0m     calc_fn,\n\u001b[1;32m    320\u001b[0m     set_code,\n\u001b[0;32m   (...)\u001b[0m\n\u001b[1;32m    330\u001b[0m     write_cache\u001b[38;5;241m=\u001b[39mwrite_cache,\n\u001b[1;32m    331\u001b[0m )\n",
      "File \u001b[0;32m~/Projects/spells/spells/manifest.py:186\u001b[0m, in \u001b[0;36mcreate\u001b[0;34m(col_def_map, columns, group_by, filter_spec)\u001b[0m\n\u001b[1;32m    182\u001b[0m     needed_views \u001b[38;5;241m=\u001b[39m {View\u001b[38;5;241m.\u001b[39mDRAFT}\n\u001b[1;32m    184\u001b[0m view_cols \u001b[38;5;241m=\u001b[39m {v: view_cols[v] \u001b[38;5;28;01mfor\u001b[39;00m v \u001b[38;5;129;01min\u001b[39;00m needed_views}\n\u001b[0;32m--> 186\u001b[0m \u001b[38;5;28;01mreturn\u001b[39;00m \u001b[43mManifest\u001b[49m\u001b[43m(\u001b[49m\n\u001b[1;32m    187\u001b[0m \u001b[43m    \u001b[49m\u001b[43mcolumns\u001b[49m\u001b[38;5;241;43m=\u001b[39;49m\u001b[43mcols\u001b[49m\u001b[43m,\u001b[49m\n\u001b[1;32m    188\u001b[0m \u001b[43m    \u001b[49m\u001b[43mcol_def_map\u001b[49m\u001b[38;5;241;43m=\u001b[39;49m\u001b[43mcol_def_map\u001b[49m\u001b[43m,\u001b[49m\n\u001b[1;32m    189\u001b[0m \u001b[43m    \u001b[49m\u001b[43mbase_view_group_by\u001b[49m\u001b[38;5;241;43m=\u001b[39;49m\u001b[43mbase_view_group_by\u001b[49m\u001b[43m,\u001b[49m\n\u001b[1;32m    190\u001b[0m \u001b[43m    \u001b[49m\u001b[43mview_cols\u001b[49m\u001b[38;5;241;43m=\u001b[39;49m\u001b[43mview_cols\u001b[49m\u001b[43m,\u001b[49m\n\u001b[1;32m    191\u001b[0m \u001b[43m    \u001b[49m\u001b[43mgroup_by\u001b[49m\u001b[38;5;241;43m=\u001b[39;49m\u001b[43mgbs\u001b[49m\u001b[43m,\u001b[49m\n\u001b[1;32m    192\u001b[0m \u001b[43m    \u001b[49m\u001b[38;5;28;43mfilter\u001b[39;49m\u001b[38;5;241;43m=\u001b[39;49m\u001b[43mm_filter\u001b[49m\u001b[43m,\u001b[49m\n\u001b[1;32m    193\u001b[0m \u001b[43m    \u001b[49m\u001b[43mcard_sum\u001b[49m\u001b[38;5;241;43m=\u001b[39;49m\u001b[43mcard_sum\u001b[49m\u001b[43m,\u001b[49m\n\u001b[1;32m    194\u001b[0m \u001b[43m\u001b[49m\u001b[43m)\u001b[49m\n",
      "File \u001b[0;32m<string>:10\u001b[0m, in \u001b[0;36m__init__\u001b[0;34m(self, columns, col_def_map, base_view_group_by, view_cols, group_by, filter, card_sum)\u001b[0m\n",
      "File \u001b[0;32m~/Projects/spells/spells/manifest.py:49\u001b[0m, in \u001b[0;36mManifest.__post_init__\u001b[0;34m(self)\u001b[0m\n\u001b[1;32m     45\u001b[0m     \u001b[38;5;28;01massert\u001b[39;00m (\n\u001b[1;32m     46\u001b[0m         view \u001b[38;5;129;01min\u001b[39;00m \u001b[38;5;28mself\u001b[39m\u001b[38;5;241m.\u001b[39mcol_def_map[col]\u001b[38;5;241m.\u001b[39mviews\n\u001b[1;32m     47\u001b[0m     ), \u001b[38;5;124mf\u001b[39m\u001b[38;5;124m\"\u001b[39m\u001b[38;5;124mView cols generated incorrectly, \u001b[39m\u001b[38;5;132;01m{\u001b[39;00mcol\u001b[38;5;132;01m}\u001b[39;00m\u001b[38;5;124m not in view \u001b[39m\u001b[38;5;132;01m{\u001b[39;00mview\u001b[38;5;132;01m}\u001b[39;00m\u001b[38;5;124m\"\u001b[39m\n\u001b[1;32m     48\u001b[0m     \u001b[38;5;66;03m# game sum cols on in game, and no NAME groupby\u001b[39;00m\n\u001b[0;32m---> 49\u001b[0m     \u001b[38;5;28;01massert\u001b[39;00m \u001b[38;5;28mself\u001b[39m\u001b[38;5;241m.\u001b[39mcol_def_map[col]\u001b[38;5;241m.\u001b[39mcol_type \u001b[38;5;241m!=\u001b[39m ColType\u001b[38;5;241m.\u001b[39mGAME_SUM \u001b[38;5;129;01mor\u001b[39;00m (\n\u001b[1;32m     50\u001b[0m         view \u001b[38;5;241m==\u001b[39m View\u001b[38;5;241m.\u001b[39mGAME \u001b[38;5;129;01mand\u001b[39;00m ColName\u001b[38;5;241m.\u001b[39mNAME \u001b[38;5;129;01mnot\u001b[39;00m \u001b[38;5;129;01min\u001b[39;00m \u001b[38;5;28mself\u001b[39m\u001b[38;5;241m.\u001b[39mbase_view_group_by\n\u001b[1;32m     51\u001b[0m     ), \u001b[38;5;124mf\u001b[39m\u001b[38;5;124m\"\u001b[39m\u001b[38;5;124mInvalid manifest for GAME_SUM column \u001b[39m\u001b[38;5;132;01m{\u001b[39;00mcol\u001b[38;5;132;01m}\u001b[39;00m\u001b[38;5;124m\"\u001b[39m\n\u001b[1;32m     52\u001b[0m \u001b[38;5;28;01mif\u001b[39;00m view \u001b[38;5;241m!=\u001b[39m View\u001b[38;5;241m.\u001b[39mCARD:\n\u001b[1;32m     53\u001b[0m     \u001b[38;5;28;01mfor\u001b[39;00m col \u001b[38;5;129;01min\u001b[39;00m \u001b[38;5;28mself\u001b[39m\u001b[38;5;241m.\u001b[39mbase_view_group_by:\n\u001b[1;32m     54\u001b[0m         \u001b[38;5;66;03m# base_view_groupbys in view check\u001b[39;00m\n",
      "\u001b[0;31mAssertionError\u001b[0m: Invalid manifest for GAME_SUM column num_games"
     ]
    }
   ],
   "source": [
    "card_sum_df_numc = summon(\"DSK\", columns=[ColName.DECK_LANDS_AVG, ColName.DECK_MANA_VALUE_AVG], group_by=[ColName.NUM_COLORS], filter_spec=filter_spec)"
   ]
  },
  {
   "cell_type": "code",
   "execution_count": 9,
   "id": "f0ffa1ff-288c-4139-90e9-2e318b3671d1",
   "metadata": {},
   "outputs": [
    {
     "data": {
      "text/html": [
       "<div><style>\n",
       ".dataframe > thead > tr,\n",
       ".dataframe > tbody > tr {\n",
       "  text-align: right;\n",
       "  white-space: pre-wrap;\n",
       "}\n",
       "</style>\n",
       "<small>shape: (16, 2)</small><table border=\"1\" class=\"dataframe\"><thead><tr><th>user_game_win_rate_bucket</th><th>num_games</th></tr><tr><td>f64</td><td>u32</td></tr></thead><tbody><tr><td>0.36</td><td>611</td></tr><tr><td>0.38</td><td>550</td></tr><tr><td>0.42</td><td>2189</td></tr><tr><td>0.44</td><td>825</td></tr><tr><td>0.46</td><td>3630</td></tr><tr><td>&hellip;</td><td>&hellip;</td></tr><tr><td>0.6</td><td>5199</td></tr><tr><td>0.62</td><td>4653</td></tr><tr><td>0.64</td><td>1019</td></tr><tr><td>0.66</td><td>1172</td></tr><tr><td>0.7</td><td>773</td></tr></tbody></table></div>"
      ],
      "text/plain": [
       "shape: (16, 2)\n",
       "┌───────────────────────────┬───────────┐\n",
       "│ user_game_win_rate_bucket ┆ num_games │\n",
       "│ ---                       ┆ ---       │\n",
       "│ f64                       ┆ u32       │\n",
       "╞═══════════════════════════╪═══════════╡\n",
       "│ 0.36                      ┆ 611       │\n",
       "│ 0.38                      ┆ 550       │\n",
       "│ 0.42                      ┆ 2189      │\n",
       "│ 0.44                      ┆ 825       │\n",
       "│ 0.46                      ┆ 3630      │\n",
       "│ …                         ┆ …         │\n",
       "│ 0.6                       ┆ 5199      │\n",
       "│ 0.62                      ┆ 4653      │\n",
       "│ 0.64                      ┆ 1019      │\n",
       "│ 0.66                      ┆ 1172      │\n",
       "│ 0.7                       ┆ 773       │\n",
       "└───────────────────────────┴───────────┘"
      ]
     },
     "execution_count": 9,
     "metadata": {},
     "output_type": "execute_result"
    }
   ],
   "source": [
    "summon(\"DSK\", group_by=[\"user_game_win_rate_bucket\"], columns=[\"num_games\"], filter_spec={'user_n_games_bucket': 500})"
   ]
  },
  {
   "cell_type": "code",
   "execution_count": null,
   "id": "74b0797c-43ce-44e4-a6c6-d5fffb9b69cf",
   "metadata": {},
   "outputs": [],
   "source": []
  }
 ],
 "metadata": {
  "kernelspec": {
   "display_name": "Python 3 (ipykernel)",
   "language": "python",
   "name": "python3"
  },
  "language_info": {
   "codemirror_mode": {
    "name": "ipython",
    "version": 3
   },
   "file_extension": ".py",
   "mimetype": "text/x-python",
   "name": "python",
   "nbconvert_exporter": "python",
   "pygments_lexer": "ipython3",
   "version": "3.13.0"
  }
 },
 "nbformat": 4,
 "nbformat_minor": 5
}
