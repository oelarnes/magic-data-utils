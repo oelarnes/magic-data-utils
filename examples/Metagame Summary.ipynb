{
 "cells": [
  {
   "cell_type": "code",
   "execution_count": 3,
   "id": "eb0be37f-77ba-4615-b568-4efb8b082fb7",
   "metadata": {},
   "outputs": [],
   "source": [
    "import json\n",
    "\n",
    "import polars as pl\n",
    "\n",
    "from spells import summon\n",
    "from spells.enums import ColName, ColType\n",
    "from spells.columns import ColumnSpec"
   ]
  },
  {
   "cell_type": "markdown",
   "id": "857a90b7-c717-45ce-951f-3202ecf6d916",
   "metadata": {},
   "source": [
    "### Metagame Summary\n",
    "\n",
    "In this notebook I'll demonstrate the metagame summaries I like to look at, along the lines of the \"Deck Color\" page on 17Lands.com. First, lets generate that table. I like to only look at the top player cohort to judge what is effective for a winning strategy. Here are recipes for the basic charts"
   ]
  },
  {
   "cell_type": "code",
   "execution_count": 4,
   "id": "3d36fd8a-4a8e-4f78-b8d8-0248539ec7ff",
   "metadata": {},
   "outputs": [
    {
     "name": "stdout",
     "output_type": "stream",
     "text": [
      "shape: (5, 4)\n",
      "┌────────────┬─────────┬───────────┬──────────┐\n",
      "│ num_colors ┆ num_won ┆ num_games ┆ game_wr  │\n",
      "│ ---        ┆ ---     ┆ ---       ┆ ---      │\n",
      "│ u32        ┆ u32     ┆ u32       ┆ f64      │\n",
      "╞════════════╪═════════╪═══════════╪══════════╡\n",
      "│ 1          ┆ 1803    ┆ 2873      ┆ 0.627567 │\n",
      "│ 2          ┆ 112978  ┆ 182958    ┆ 0.617508 │\n",
      "│ 3          ┆ 12108   ┆ 20721     ┆ 0.584335 │\n",
      "│ 4          ┆ 337     ┆ 600       ┆ 0.561667 │\n",
      "│ 5          ┆ 17      ┆ 37        ┆ 0.459459 │\n",
      "└────────────┴─────────┴───────────┴──────────┘\n",
      "shape: (10, 4)\n",
      "┌─────────────┬─────────┬───────────┬──────────┐\n",
      "│ main_colors ┆ num_won ┆ num_games ┆ game_wr  │\n",
      "│ ---         ┆ ---     ┆ ---       ┆ ---      │\n",
      "│ str         ┆ u32     ┆ u32       ┆ f64      │\n",
      "╞═════════════╪═════════╪═══════════╪══════════╡\n",
      "│ BG          ┆ 9587    ┆ 15624     ┆ 0.613607 │\n",
      "│ BR          ┆ 11486   ┆ 18595     ┆ 0.617693 │\n",
      "│ RG          ┆ 16179   ┆ 26464     ┆ 0.611359 │\n",
      "│ UB          ┆ 4104    ┆ 6945      ┆ 0.590929 │\n",
      "│ UG          ┆ 16478   ┆ 26363     ┆ 0.625043 │\n",
      "│ UR          ┆ 6821    ┆ 11537     ┆ 0.591228 │\n",
      "│ WB          ┆ 5632    ┆ 9460      ┆ 0.595349 │\n",
      "│ WG          ┆ 4287    ┆ 7219      ┆ 0.59385  │\n",
      "│ WR          ┆ 18239   ┆ 28903     ┆ 0.631042 │\n",
      "│ WU          ┆ 20165   ┆ 31848     ┆ 0.633164 │\n",
      "└─────────────┴─────────┴───────────┴──────────┘\n"
     ]
    }
   ],
   "source": [
    "\n",
    "filter_spec = {ColName.PLAYER_COHORT: 'Top'}\n",
    "columns = [ColName.NUM_WON, ColName.NUM_GAMES, ColName.GAME_WR]\n",
    "\n",
    "print(summon(\"DSK\", columns=columns, group_by=[ColName.NUM_COLORS], filter_spec=filter_spec))\n",
    "\n",
    "two_color_filter = {'$and': [{'num_colors': 2}, filter_spec]}\n",
    "print(summon(\"DSK\", columns=columns, group_by=[ColName.MAIN_COLORS], filter_spec=two_color_filter))"
   ]
  },
  {
   "cell_type": "markdown",
   "id": "c74fc67c-a2ce-4200-9395-45c4a4acea8f",
   "metadata": {},
   "source": [
    "You'll note the winrates are higher than the \"Top\" cohort on 17Lands. That's because we are compelled to use an in-sample cohort. We might want some additional context about the archetypes, like how often the decks splash, the average number of lands, and the average converted mana cost. Let's add all three. There isn't a `GAME_SUM` column built in for splash count, so we'll define one. Note that `GAME_SUM` columns can only be used when no card attributes are used. So we'll need a separate aggregation."
   ]
  },
  {
   "cell_type": "code",
   "execution_count": 6,
   "id": "c6b81a2e-2c9c-42c7-ad17-6ecdf331336f",
   "metadata": {},
   "outputs": [
    {
     "name": "stdout",
     "output_type": "stream",
     "text": [
      "shape: (5, 5)\n",
      "┌────────────┬─────────┬───────────┬──────────┬─────────────┐\n",
      "│ num_colors ┆ num_won ┆ num_games ┆ game_wr  ┆ splash_rate │\n",
      "│ ---        ┆ ---     ┆ ---       ┆ ---      ┆ ---         │\n",
      "│ u32        ┆ u32     ┆ u32       ┆ f64      ┆ f64         │\n",
      "╞════════════╪═════════╪═══════════╪══════════╪═════════════╡\n",
      "│ 1          ┆ 1803    ┆ 2873      ┆ 0.627567 ┆ 0.788723    │\n",
      "│ 2          ┆ 112978  ┆ 182958    ┆ 0.617508 ┆ 0.306595    │\n",
      "│ 3          ┆ 12108   ┆ 20721     ┆ 0.584335 ┆ 0.15757     │\n",
      "│ 4          ┆ 337     ┆ 600       ┆ 0.561667 ┆ 0.526667    │\n",
      "│ 5          ┆ 17      ┆ 37        ┆ 0.459459 ┆ 0.0         │\n",
      "└────────────┴─────────┴───────────┴──────────┴─────────────┘\n",
      "shape: (10, 5)\n",
      "┌─────────────┬─────────┬───────────┬──────────┬─────────────┐\n",
      "│ main_colors ┆ num_won ┆ num_games ┆ game_wr  ┆ splash_rate │\n",
      "│ ---         ┆ ---     ┆ ---       ┆ ---      ┆ ---         │\n",
      "│ str         ┆ u32     ┆ u32       ┆ f64      ┆ f64         │\n",
      "╞═════════════╪═════════╪═══════════╪══════════╪═════════════╡\n",
      "│ BG          ┆ 9587    ┆ 15624     ┆ 0.613607 ┆ 0.509665    │\n",
      "│ BR          ┆ 11486   ┆ 18595     ┆ 0.617693 ┆ 0.214843    │\n",
      "│ RG          ┆ 16179   ┆ 26464     ┆ 0.611359 ┆ 0.391362    │\n",
      "│ UB          ┆ 4104    ┆ 6945      ┆ 0.590929 ┆ 0.379554    │\n",
      "│ UG          ┆ 16478   ┆ 26363     ┆ 0.625043 ┆ 0.504609    │\n",
      "│ UR          ┆ 6821    ┆ 11537     ┆ 0.591228 ┆ 0.275202    │\n",
      "│ WB          ┆ 5632    ┆ 9460      ┆ 0.595349 ┆ 0.275581    │\n",
      "│ WG          ┆ 4287    ┆ 7219      ┆ 0.59385  ┆ 0.342568    │\n",
      "│ WR          ┆ 18239   ┆ 28903     ┆ 0.631042 ┆ 0.079438    │\n",
      "│ WU          ┆ 20165   ┆ 31848     ┆ 0.633164 ┆ 0.228868    │\n",
      "└─────────────┴─────────┴───────────┴──────────┴─────────────┘\n"
     ]
    }
   ],
   "source": [
    "ext = [\n",
    "    ColumnSpec(\n",
    "        name='num_splash',\n",
    "        col_type=ColType.GAME_SUM,\n",
    "        expr=pl.col(ColName.HAS_SPLASH)\n",
    "    ),\n",
    "    ColumnSpec(\n",
    "        name='splash_rate',\n",
    "        col_type=ColType.AGG,\n",
    "        expr=pl.col('num_splash') / pl.col(ColName.NUM_GAMES)\n",
    "    ),\n",
    "]\n",
    "print(by_num_colors_df := summon(\"DSK\", columns=columns + ['splash_rate'], group_by=[ColName.NUM_COLORS], filter_spec=filter_spec, extensions=ext))\n",
    "print(by_color_pair_df := summon(\"DSK\", columns=columns+['splash_rate'], group_by=[\"main_colors\"], filter_spec=two_color_filter, extensions=ext))\n",
    "        "
   ]
  },
  {
   "cell_type": "markdown",
   "id": "d1c97716-a194-48f2-8c99-0d1141b0b863",
   "metadata": {},
   "source": [
    "Columns for the average number of lands and the average mana value of spells are also included with Spells, and that might be interesting here:"
   ]
  },
  {
   "cell_type": "code",
   "execution_count": 16,
   "id": "3bed9617-988b-40c9-9b43-1fa57d46c39c",
   "metadata": {},
   "outputs": [
    {
     "name": "stdout",
     "output_type": "stream",
     "text": [
      "shape: (10, 7)\n",
      "┌─────────────┬─────────┬───────────┬──────────┬─────────────┬────────────────┬────────────────────┐\n",
      "│ main_colors ┆ num_won ┆ num_games ┆ game_wr  ┆ splash_rate ┆ deck_lands_avg ┆ deck_mana_value_av │\n",
      "│ ---         ┆ ---     ┆ ---       ┆ ---      ┆ ---         ┆ ---            ┆ g                  │\n",
      "│ str         ┆ u32     ┆ u32       ┆ f64      ┆ f64         ┆ f64            ┆ ---                │\n",
      "│             ┆         ┆           ┆          ┆             ┆                ┆ f64                │\n",
      "╞═════════════╪═════════╪═══════════╪══════════╪═════════════╪════════════════╪════════════════════╡\n",
      "│ BG          ┆ 9587    ┆ 15624     ┆ 0.613607 ┆ 0.509665    ┆ 16.721262      ┆ 3.242466           │\n",
      "│ BR          ┆ 11486   ┆ 18595     ┆ 0.617693 ┆ 0.214843    ┆ 16.633181      ┆ 3.067082           │\n",
      "│ RG          ┆ 16179   ┆ 26464     ┆ 0.611359 ┆ 0.391362    ┆ 16.68459       ┆ 3.145302           │\n",
      "│ UB          ┆ 4104    ┆ 6945      ┆ 0.590929 ┆ 0.379554    ┆ 16.792657      ┆ 3.283672           │\n",
      "│ UG          ┆ 16478   ┆ 26363     ┆ 0.625043 ┆ 0.504609    ┆ 16.789933      ┆ 3.243866           │\n",
      "│ UR          ┆ 6821    ┆ 11537     ┆ 0.591228 ┆ 0.275202    ┆ 16.81685       ┆ 3.816576           │\n",
      "│ WB          ┆ 5632    ┆ 9460      ┆ 0.595349 ┆ 0.275581    ┆ 16.670402      ┆ 3.545501           │\n",
      "│ WG          ┆ 4287    ┆ 7219      ┆ 0.59385  ┆ 0.342568    ┆ 16.652722      ┆ 3.084088           │\n",
      "│ WR          ┆ 18239   ┆ 28903     ┆ 0.631042 ┆ 0.079438    ┆ 16.533059      ┆ 3.033125           │\n",
      "│ WU          ┆ 20165   ┆ 31848     ┆ 0.633164 ┆ 0.228868    ┆ 16.779798      ┆ 3.300245           │\n",
      "└─────────────┴─────────┴───────────┴──────────┴─────────────┴────────────────┴────────────────────┘\n"
     ]
    }
   ],
   "source": [
    "print(summon(\"DSK\", \n",
    "    columns=[ColName.NUM_WON, ColName.NUM_GAMES, ColName.GAME_WR, 'splash_rate', ColName.DECK_LANDS_AVG, ColName.DECK_MANA_VALUE_AVG], \n",
    "    group_by=[ColName.MAIN_COLORS], \n",
    "    filter_spec=two_color_filter, \n",
    "    extensions=ext)\n",
    ")"
   ]
  }
 ],
 "metadata": {
  "kernelspec": {
   "display_name": "Python 3 (ipykernel)",
   "language": "python",
   "name": "python3"
  },
  "language_info": {
   "codemirror_mode": {
    "name": "ipython",
    "version": 3
   },
   "file_extension": ".py",
   "mimetype": "text/x-python",
   "name": "python",
   "nbconvert_exporter": "python",
   "pygments_lexer": "ipython3",
   "version": "3.13.0"
  }
 },
 "nbformat": 4,
 "nbformat_minor": 5
}
